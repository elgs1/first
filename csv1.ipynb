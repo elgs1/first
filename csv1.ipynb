{
 "cells": [
  {
   "cell_type": "code",
   "execution_count": 10,
   "metadata": {},
   "outputs": [],
   "source": [
    "#import Bokeh and pandas\n",
    "from bokeh.models import ColumnDataSource, DateFormatter\n",
    "from bokeh.plotting import figure\n",
    "from bokeh.io import output_file, show\n",
    "import pandas as pd\n",
    "import datetime\n",
    "\n",
    "df=pd.read_csv(\"c1_temperature_data.csv\")\n",
    "\n",
    "df[\"Time\"] = pd.to_datetime(df[\"Time\"],infer_datetime_format=True)\n",
    "\n",
    "p=figure(width=500,height=250,x_axis_type=\"datetime\")\n",
    "\n",
    "p.title.text = \"Temperature during time period\"\n",
    "p.xaxis.axis_label = \"Date\"\n",
    "p.yaxis.axis_label = \"Temperature\"\n",
    "\n",
    "data_source = ColumnDataSource(df)\n",
    "\n",
    "p.circle(df[\"Time\"],df[\"Temp\"],color=\"Orange\",size=1,alpha=0.5)\n",
    "\n",
    "output_file(\"timeseries1.html\")\n",
    "show(p)\n",
    "\n"
   ]
  }
 ],
 "metadata": {
  "kernelspec": {
   "display_name": "Python 3",
   "language": "python",
   "name": "python3"
  },
  "language_info": {
   "codemirror_mode": {
    "name": "ipython",
    "version": 3
   },
   "file_extension": ".py",
   "mimetype": "text/x-python",
   "name": "python",
   "nbconvert_exporter": "python",
   "pygments_lexer": "ipython3",
   "version": "3.8.0"
  }
 },
 "nbformat": 4,
 "nbformat_minor": 2
}
